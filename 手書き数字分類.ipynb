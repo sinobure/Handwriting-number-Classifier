{
 "cells": [
  {
   "cell_type": "code",
   "execution_count": 56,
   "metadata": {},
   "outputs": [
    {
     "name": "stderr",
     "output_type": "stream",
     "text": [
      "Using TensorFlow backend.\n"
     ]
    }
   ],
   "source": [
    "import keras\n",
    "from keras.models import Sequential\n",
    "from keras.layers import Dense,Dropout,Flatten\n",
    "from keras.layers import Conv2D,MaxPooling2D\n",
    "from keras.optimizers import RMSprop\n",
    "from keras.datasets import mnist\n",
    "import matplotlib.pyplot as plt"
   ]
  },
  {
   "cell_type": "code",
   "execution_count": 57,
   "metadata": {},
   "outputs": [],
   "source": [
    "#入力と出力の指定\n",
    "im_rows = 28 #画像の縦ピクセルサイズ\n",
    "im_cols = 28 #画像の横ピクセルサイズ\n",
    "im_color =1 #画像の色空間。グレイスケール\n",
    "in_shape = (im_rows,im_cols,im_color)\n",
    "out_size = 10"
   ]
  },
  {
   "cell_type": "code",
   "execution_count": 58,
   "metadata": {},
   "outputs": [],
   "source": [
    "#MNISTのデータ読み込み\n",
    "(X_train, y_train),(X_test, y_test) = mnist.load_data()\n",
    "#読み込んだデータを三次元配列に変換\n",
    "X_train = X_train.reshape(-1, im_rows, im_cols, im_color)\n",
    "X_train = X_train.astype('float32')/255\n",
    "X_test = X_test.reshape(-1, im_rows, im_cols, im_color)\n",
    "X_test = X_test.astype('float32')/255\n",
    "#ラベルデータをone-hotベクトルに直す\n",
    "y_train = keras.utils.np_utils.to_categorical(y_train.astype('int32'),10)\n",
    "y_test = keras.utils.np_utils.to_categorical(y_test.astype('int32'),10)"
   ]
  },
  {
   "cell_type": "code",
   "execution_count": 59,
   "metadata": {},
   "outputs": [],
   "source": [
    "#CNNモデル構造を定義\n",
    "model = Sequential()\n",
    "model.add(Conv2D(32,\n",
    "                kernel_size = (3, 3),\n",
    "                activation = 'relu',\n",
    "                input_shape = in_shape))\n",
    "model.add(Conv2D(64, (3,3), activation = 'relu'))\n",
    "model.add(MaxPooling2D(pool_size = (2, 2)))\n",
    "model.add(Dropout(0.25))\n",
    "model.add(Flatten())\n",
    "model.add(Dense(128, activation = 'relu'))\n",
    "model.add(Dropout(0.5))\n",
    "model.add(Dense(out_size, activation = 'softmax'))"
   ]
  },
  {
   "cell_type": "code",
   "execution_count": 60,
   "metadata": {},
   "outputs": [],
   "source": [
    "#モデルをコンパイル\n",
    "model.compile(\n",
    "    loss = 'categorical_crossentropy',\n",
    "    optimizer = RMSprop(),\n",
    "    metrics = ['accuracy'])"
   ]
  },
  {
   "cell_type": "code",
   "execution_count": 61,
   "metadata": {},
   "outputs": [
    {
     "name": "stdout",
     "output_type": "stream",
     "text": [
      "Epoch 1/12\n",
      "60000/60000 [==============================] - 67s 1ms/step - loss: 0.2188 - accuracy: 0.9342\n",
      "Epoch 2/12\n",
      "60000/60000 [==============================] - 64s 1ms/step - loss: 0.0810 - accuracy: 0.9757\n",
      "Epoch 3/12\n",
      "60000/60000 [==============================] - 64s 1ms/step - loss: 0.0630 - accuracy: 0.9816\n",
      "Epoch 4/12\n",
      "60000/60000 [==============================] - 64s 1ms/step - loss: 0.0559 - accuracy: 0.9838\n",
      "Epoch 5/12\n",
      "60000/60000 [==============================] - 60s 995us/step - loss: 0.0495 - accuracy: 0.9857\n",
      "Epoch 6/12\n",
      "60000/60000 [==============================] - 63s 1ms/step - loss: 0.0468 - accuracy: 0.9865\n",
      "Epoch 7/12\n",
      "60000/60000 [==============================] - 64s 1ms/step - loss: 0.0443 - accuracy: 0.9871\n",
      "Epoch 8/12\n",
      "60000/60000 [==============================] - 64s 1ms/step - loss: 0.0454 - accuracy: 0.9870\n",
      "Epoch 9/12\n",
      "60000/60000 [==============================] - 64s 1ms/step - loss: 0.0464 - accuracy: 0.9873\n",
      "Epoch 10/12\n",
      "60000/60000 [==============================] - 63s 1ms/step - loss: 0.0454 - accuracy: 0.9873\n",
      "Epoch 11/12\n",
      "60000/60000 [==============================] - 55s 924us/step - loss: 0.0467 - accuracy: 0.9869\n",
      "Epoch 12/12\n",
      "60000/60000 [==============================] - 55s 913us/step - loss: 0.0494 - accuracy: 0.9869\n"
     ]
    }
   ],
   "source": [
    "#学習を実行\n",
    "hist = model.fit(X_train, y_train,\n",
    "                batch_size = 128,\n",
    "                epochs = 12,\n",
    "                verbose = 1)"
   ]
  },
  {
   "cell_type": "code",
   "execution_count": 62,
   "metadata": {},
   "outputs": [
    {
     "name": "stdout",
     "output_type": "stream",
     "text": [
      "10000/10000 [==============================] - 4s 419us/step\n",
      "正解率＝ 0.9897000193595886 loss= 0.0344372431621141\n"
     ]
    }
   ],
   "source": [
    "#モデルを評価\n",
    "score = model.evaluate(X_test, y_test, verbose = 1)\n",
    "print('正解率＝',score[1], 'loss=',score[0])"
   ]
  },
  {
   "cell_type": "code",
   "execution_count": 63,
   "metadata": {},
   "outputs": [
    {
     "data": {
      "image/png": "[encoded data removed]",
      "text/plain": [
       "<Figure size 432x288 with 1 Axes>"
      ]
     },
     "metadata": {
      "needs_background": "light"
     },
     "output_type": "display_data"
    }
   ],
   "source": [
    "#正解率の推移をプロット\n",
    "plt.plot(hist.history['accuracy'])\n",
    "plt.title('Accuracy')\n",
    "plt.show()"
   ]
  }
 ],
 "metadata": {
  "kernelspec": {
   "display_name": "Python 3",
   "language": "python",
   "name": "python3"
  },
  "language_info": {
   "codemirror_mode": {
    "name": "ipython",
    "version": 3
   },
   "file_extension": ".py",
   "mimetype": "text/x-python",
   "name": "python",
   "nbconvert_exporter": "python",
   "pygments_lexer": "ipython3",
   "version": "3.6.10"
  }
 },
 "nbformat": 4,
 "nbformat_minor": 2
}
